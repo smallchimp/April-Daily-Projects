{
 "cells": [
  {
   "cell_type": "code",
   "execution_count": 1,
   "metadata": {},
   "outputs": [],
   "source": [
    "import matplotlib.pyplot as plt\n",
    "import numpy as np"
   ]
  },
  {
   "cell_type": "code",
   "execution_count": 2,
   "metadata": {},
   "outputs": [],
   "source": [
    "#Basic functions\n",
    "\n",
    "def future_value(pv, rate, n_periods):\n",
    "    fut_val = pv * (1 + rate) ** n_periods\n",
    "    return \"The future value of this lump sum would be: ${0:.2f}\".format(fut_val)\n",
    "\n",
    "def present_value(fv, rate, n_years):\n",
    "    pres_val = fv / (1 + rate) ** n_periods\n",
    "    return \"The present value of this lump sum would be: ${0:.2f}\".format(pres_val)"
   ]
  },
  {
   "cell_type": "code",
   "execution_count": 3,
   "metadata": {},
   "outputs": [
    {
     "data": {
      "text/plain": [
       "'The future value of this lump sum would be: $40066.61'"
      ]
     },
     "execution_count": 3,
     "metadata": {},
     "output_type": "execute_result"
    }
   ],
   "source": [
    "pv = 25800\n",
    "rate = .045\n",
    "n_periods = 10\n",
    "\n",
    "future_value(pv, rate, n_periods)"
   ]
  },
  {
   "cell_type": "code",
   "execution_count": 4,
   "metadata": {},
   "outputs": [
    {
     "data": {
      "text/plain": [
       "'The present value of this lump sum would be: $25800.00'"
      ]
     },
     "execution_count": 4,
     "metadata": {},
     "output_type": "execute_result"
    }
   ],
   "source": [
    "fv = 40066.61\n",
    "rate = .045\n",
    "n_periods = 10\n",
    "\n",
    "present_value(fv, rate, n_periods)"
   ]
  },
  {
   "cell_type": "code",
   "execution_count": 5,
   "metadata": {},
   "outputs": [],
   "source": [
    "#Solving for variable\n",
    "\n",
    "def find_var(fv, pv, var, rate=\"\", n_periods=\"\"):\n",
    "    if var == \"rate\":\n",
    "        rate = (fv / pv) ** (1 / n_periods)-1\n",
    "        return round(rate, 3)\n",
    "    elif var == \"n_years\":\n",
    "        n_periods = np.log(fv/pv) / np.log(1 + rate)\n",
    "        return round(n_periods, 1)\n",
    "    else:\n",
    "        return \"The variable input is invalid. It must be either 'rate' or 'n_years'.\""
   ]
  },
  {
   "cell_type": "code",
   "execution_count": 6,
   "metadata": {},
   "outputs": [
    {
     "data": {
      "text/plain": [
       "0.045"
      ]
     },
     "execution_count": 6,
     "metadata": {},
     "output_type": "execute_result"
    }
   ],
   "source": [
    "find_var(40066.61, 25800, \"rate\", rate=\"\", n_periods=10)"
   ]
  },
  {
   "cell_type": "code",
   "execution_count": 25,
   "metadata": {},
   "outputs": [],
   "source": [
    "def tv_annuity(present_or_future, ordinary_or_due, pv, fv, n_periods, pmt, rate):\n",
    "    if present_or_future == \"future\":\n",
    "        if ordinary_or_due == \"ordinary\":\n",
    "            fut_val = pmt * ((1 + rate)**(n_periods)-1)/rate\n",
    "            return \"The future value of this ordinary annuity would be: ${0:.2f}\".format(fut_val)\n",
    "            \n",
    "        elif ordinary_or_due == \"due\":\n",
    "            fut_val = pmt * (((1 + rate)**(n_periods)-1) / rate) *(1 + rate)\n",
    "            return \"The future value of this annuity due would be: ${0:.2f}\".format(fut_val)\n",
    "            \n",
    "    elif present_or_future == \"present\":\n",
    "        if ordinary_or_due == \"ordinary\":\n",
    "            pres_val = pmt * (1-1/(1 + rate) ** n_periods) / rate\n",
    "            return \"The present value of this ordinary annuity would be: ${0:.2f}\".format(pres_val)\n",
    "        elif ordinary_or_due == \"due\":\n",
    "            pres_val = (pmt * (1-1/(1 + rate) ** n_periods) / rate) * (1 + rate)\n",
    "            return \"The present value of this annuity due would be: ${0:.2f}\".format(pres_val)\n",
    "    else:\n",
    "        return \"Invalid input\""
   ]
  },
  {
   "cell_type": "code",
   "execution_count": 27,
   "metadata": {
    "scrolled": true
   },
   "outputs": [
    {
     "data": {
      "text/plain": [
       "'The future value of this ordinary annuity would be: $7996.36'"
      ]
     },
     "execution_count": 27,
     "metadata": {},
     "output_type": "execute_result"
    }
   ],
   "source": [
    "present_or_future = \"future\"\n",
    "ordinary_or_due = \"ordinary\"\n",
    "pv = 0\n",
    "n_periods = 8 * 12\n",
    "pmt = 50\n",
    "rate = .12 / 12\n",
    "\n",
    "\n",
    "\n",
    "tv_annuity(present_or_future, ordinary_or_due, pv, fv, n_periods, pmt, rate)"
   ]
  },
  {
   "cell_type": "code",
   "execution_count": 22,
   "metadata": {},
   "outputs": [],
   "source": [
    "def lump_sum_calc(fv=\"\", pv=\"\", rate=\"\", n_periods=\"\", var=\"\"):\n",
    "    if fv == \"\" and pv == \"\":\n",
    "        return \"Invalid input. This calculator needs a future value to return the present value, a present value to return the future value, or both to calculate the missing variable.\"\n",
    "    elif rate == \"\" and n_periods == \"\":\n",
    "        return \"The function requires a rate or a number of years to calculate a solution.\"\n",
    "    elif fv == \"\":\n",
    "        return future_value(pv, rate, n_periods)\n",
    "    elif pv == \"\":\n",
    "        return present_value(fv, rate, n_periods)\n",
    "    elif fv != \"\" and pv != \"\":\n",
    "        return find_var(fv, pv, var, rate=rate, n_periods=n_periods)"
   ]
  },
  {
   "cell_type": "code",
   "execution_count": 8,
   "metadata": {},
   "outputs": [
    {
     "data": {
      "text/plain": [
       "'The function requires a rate or a number of years to calculate a solution.'"
      ]
     },
     "execution_count": 8,
     "metadata": {},
     "output_type": "execute_result"
    }
   ],
   "source": [
    "lump_sum_calc(fv=400661.61, pv=\"\", rate=\"\", n_periods=\"\", var=\"\")"
   ]
  }
 ],
 "metadata": {
  "kernelspec": {
   "display_name": "Python 3",
   "language": "python",
   "name": "python3"
  },
  "language_info": {
   "codemirror_mode": {
    "name": "ipython",
    "version": 3
   },
   "file_extension": ".py",
   "mimetype": "text/x-python",
   "name": "python",
   "nbconvert_exporter": "python",
   "pygments_lexer": "ipython3",
   "version": "3.7.4"
  }
 },
 "nbformat": 4,
 "nbformat_minor": 2
}
